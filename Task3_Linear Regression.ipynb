{
 "cells": [
  {
   "cell_type": "code",
   "execution_count": 1,
   "id": "50654f44-f752-4b6f-9ef2-77003930d41a",
   "metadata": {},
   "outputs": [],
   "source": [
    "import pandas as pd #for tasks related to data : import, export, manipulation\n",
    "import numpy as np #for numerical tasks\n",
    "import matplotlib.pyplot as plt #for data visualization\n",
    "from sklearn.model_selection import train_test_split\n",
    "from sklearn.linear_model import LinearRegression\n",
    "from sklearn.metrics import mean_squared_error, r2_score"
   ]
  },
  {
   "cell_type": "code",
   "execution_count": 3,
   "id": "fe736ebc-fa5f-4ec8-8ade-c3a317d9b23b",
   "metadata": {},
   "outputs": [],
   "source": [
    "  df = pd.read_csv('C:/Users/Home/Downloads/Housing.csv')"
   ]
  },
  {
   "cell_type": "code",
   "execution_count": 4,
   "id": "8bdb3b18-827a-4565-a147-7b05587671a2",
   "metadata": {
    "scrolled": true
   },
   "outputs": [
    {
     "name": "stdout",
     "output_type": "stream",
     "text": [
      "<class 'pandas.core.frame.DataFrame'>\n",
      "RangeIndex: 545 entries, 0 to 544\n",
      "Data columns (total 13 columns):\n",
      " #   Column            Non-Null Count  Dtype \n",
      "---  ------            --------------  ----- \n",
      " 0   price             545 non-null    int64 \n",
      " 1   area              545 non-null    int64 \n",
      " 2   bedrooms          545 non-null    int64 \n",
      " 3   bathrooms         545 non-null    int64 \n",
      " 4   stories           545 non-null    int64 \n",
      " 5   mainroad          545 non-null    object\n",
      " 6   guestroom         545 non-null    object\n",
      " 7   basement          545 non-null    object\n",
      " 8   hotwaterheating   545 non-null    object\n",
      " 9   airconditioning   545 non-null    object\n",
      " 10  parking           545 non-null    int64 \n",
      " 11  prefarea          545 non-null    object\n",
      " 12  furnishingstatus  545 non-null    object\n",
      "dtypes: int64(6), object(7)\n",
      "memory usage: 55.5+ KB\n"
     ]
    }
   ],
   "source": [
    "df.info()"
   ]
  },
  {
   "cell_type": "code",
   "execution_count": 5,
   "id": "3f1563a1-801d-4658-ad29-96804b29e4af",
   "metadata": {},
   "outputs": [
    {
     "data": {
      "text/html": [
       "<div>\n",
       "<style scoped>\n",
       "    .dataframe tbody tr th:only-of-type {\n",
       "        vertical-align: middle;\n",
       "    }\n",
       "\n",
       "    .dataframe tbody tr th {\n",
       "        vertical-align: top;\n",
       "    }\n",
       "\n",
       "    .dataframe thead th {\n",
       "        text-align: right;\n",
       "    }\n",
       "</style>\n",
       "<table border=\"1\" class=\"dataframe\">\n",
       "  <thead>\n",
       "    <tr style=\"text-align: right;\">\n",
       "      <th></th>\n",
       "      <th>price</th>\n",
       "      <th>area</th>\n",
       "      <th>bedrooms</th>\n",
       "      <th>bathrooms</th>\n",
       "      <th>stories</th>\n",
       "      <th>mainroad</th>\n",
       "      <th>guestroom</th>\n",
       "      <th>basement</th>\n",
       "      <th>hotwaterheating</th>\n",
       "      <th>airconditioning</th>\n",
       "      <th>parking</th>\n",
       "      <th>prefarea</th>\n",
       "      <th>furnishingstatus</th>\n",
       "    </tr>\n",
       "  </thead>\n",
       "  <tbody>\n",
       "    <tr>\n",
       "      <th>0</th>\n",
       "      <td>13300000</td>\n",
       "      <td>7420</td>\n",
       "      <td>4</td>\n",
       "      <td>2</td>\n",
       "      <td>3</td>\n",
       "      <td>yes</td>\n",
       "      <td>no</td>\n",
       "      <td>no</td>\n",
       "      <td>no</td>\n",
       "      <td>yes</td>\n",
       "      <td>2</td>\n",
       "      <td>yes</td>\n",
       "      <td>furnished</td>\n",
       "    </tr>\n",
       "    <tr>\n",
       "      <th>1</th>\n",
       "      <td>12250000</td>\n",
       "      <td>8960</td>\n",
       "      <td>4</td>\n",
       "      <td>4</td>\n",
       "      <td>4</td>\n",
       "      <td>yes</td>\n",
       "      <td>no</td>\n",
       "      <td>no</td>\n",
       "      <td>no</td>\n",
       "      <td>yes</td>\n",
       "      <td>3</td>\n",
       "      <td>no</td>\n",
       "      <td>furnished</td>\n",
       "    </tr>\n",
       "    <tr>\n",
       "      <th>2</th>\n",
       "      <td>12250000</td>\n",
       "      <td>9960</td>\n",
       "      <td>3</td>\n",
       "      <td>2</td>\n",
       "      <td>2</td>\n",
       "      <td>yes</td>\n",
       "      <td>no</td>\n",
       "      <td>yes</td>\n",
       "      <td>no</td>\n",
       "      <td>no</td>\n",
       "      <td>2</td>\n",
       "      <td>yes</td>\n",
       "      <td>semi-furnished</td>\n",
       "    </tr>\n",
       "    <tr>\n",
       "      <th>3</th>\n",
       "      <td>12215000</td>\n",
       "      <td>7500</td>\n",
       "      <td>4</td>\n",
       "      <td>2</td>\n",
       "      <td>2</td>\n",
       "      <td>yes</td>\n",
       "      <td>no</td>\n",
       "      <td>yes</td>\n",
       "      <td>no</td>\n",
       "      <td>yes</td>\n",
       "      <td>3</td>\n",
       "      <td>yes</td>\n",
       "      <td>furnished</td>\n",
       "    </tr>\n",
       "    <tr>\n",
       "      <th>4</th>\n",
       "      <td>11410000</td>\n",
       "      <td>7420</td>\n",
       "      <td>4</td>\n",
       "      <td>1</td>\n",
       "      <td>2</td>\n",
       "      <td>yes</td>\n",
       "      <td>yes</td>\n",
       "      <td>yes</td>\n",
       "      <td>no</td>\n",
       "      <td>yes</td>\n",
       "      <td>2</td>\n",
       "      <td>no</td>\n",
       "      <td>furnished</td>\n",
       "    </tr>\n",
       "  </tbody>\n",
       "</table>\n",
       "</div>"
      ],
      "text/plain": [
       "      price  area  bedrooms  bathrooms  stories mainroad guestroom basement  \\\n",
       "0  13300000  7420         4          2        3      yes        no       no   \n",
       "1  12250000  8960         4          4        4      yes        no       no   \n",
       "2  12250000  9960         3          2        2      yes        no      yes   \n",
       "3  12215000  7500         4          2        2      yes        no      yes   \n",
       "4  11410000  7420         4          1        2      yes       yes      yes   \n",
       "\n",
       "  hotwaterheating airconditioning  parking prefarea furnishingstatus  \n",
       "0              no             yes        2      yes        furnished  \n",
       "1              no             yes        3       no        furnished  \n",
       "2              no              no        2      yes   semi-furnished  \n",
       "3              no             yes        3      yes        furnished  \n",
       "4              no             yes        2       no        furnished  "
      ]
     },
     "execution_count": 5,
     "metadata": {},
     "output_type": "execute_result"
    }
   ],
   "source": [
    "df.head()"
   ]
  },
  {
   "cell_type": "code",
   "execution_count": 7,
   "id": "a04a2ae8-b207-44b3-bc91-589942857c62",
   "metadata": {},
   "outputs": [
    {
     "name": "stdout",
     "output_type": "stream",
     "text": [
      "\n",
      "Missing values per column:\n",
      "price               0\n",
      "area                0\n",
      "bedrooms            0\n",
      "bathrooms           0\n",
      "stories             0\n",
      "mainroad            0\n",
      "guestroom           0\n",
      "basement            0\n",
      "hotwaterheating     0\n",
      "airconditioning     0\n",
      "parking             0\n",
      "prefarea            0\n",
      "furnishingstatus    0\n",
      "dtype: int64\n"
     ]
    }
   ],
   "source": [
    " print(\"\\nMissing values per column:\")\n",
    " print(df.isnull().sum())"
   ]
  },
  {
   "cell_type": "code",
   "execution_count": 8,
   "id": "79ea5cb9-3672-45c0-8850-62ae05a92173",
   "metadata": {},
   "outputs": [
    {
     "name": "stdout",
     "output_type": "stream",
     "text": [
      "Shape: (545, 13)\n"
     ]
    }
   ],
   "source": [
    "print(f\"Shape: {df.shape}\")"
   ]
  },
  {
   "cell_type": "code",
   "execution_count": 10,
   "id": "dbb7aa80-2678-4cff-9699-b25368d8fc3b",
   "metadata": {},
   "outputs": [
    {
     "name": "stdout",
     "output_type": "stream",
     "text": [
      "Data split successfully!\n",
      "Shape of X_train: (436, 1)\n",
      "Shape of X_test: (109, 1)\n",
      "Shape of y_train: (436,)\n",
      "Shape of y_test: (109,)\n"
     ]
    }
   ],
   "source": [
    "#Split Data into Train-Test Sets\n",
    "# Define the features (X) and the target (y)\n",
    "# For this example, We will use 'area' as the single feature.\n",
    "X = df[['area']]\n",
    "y = df['price']\n",
    "\n",
    "# Split the data into training and testing sets (80% train, 20% test)\n",
    "# random_state ensures reproducibility of the split\n",
    "X_train, X_test, y_train, y_test = train_test_split(X, y, test_size=0.2, random_state=42)\n",
    "\n",
    "print(\"Data split successfully!\")\n",
    "print(f\"Shape of X_train: {X_train.shape}\")\n",
    "print(f\"Shape of X_test: {X_test.shape}\")\n",
    "print(f\"Shape of y_train: {y_train.shape}\")\n",
    "print(f\"Shape of y_test: {y_test.shape}\")"
   ]
  },
  {
   "cell_type": "code",
   "execution_count": 11,
   "id": "f6c56d24-407f-4375-91de-d57be73c6682",
   "metadata": {},
   "outputs": [
    {
     "name": "stdout",
     "output_type": "stream",
     "text": [
      "Linear Regression model trained successfully!\n"
     ]
    }
   ],
   "source": [
    "#Fit a Linear Regression Model \n",
    "# Create a Linear Regression model instance\n",
    "model = LinearRegression()\n",
    "# Fit (train) the model on the training data\n",
    "model.fit(X_train, y_train)\n",
    "print(\"Linear Regression model trained successfully!\")"
   ]
  },
  {
   "cell_type": "code",
   "execution_count": 12,
   "id": "ac903a88-ea5c-450a-ba3e-0333f4abd81f",
   "metadata": {},
   "outputs": [
    {
     "name": "stdout",
     "output_type": "stream",
     "text": [
      "Model Evaluation:\n",
      "Mean Absolute Error (MAE): 1474748.13\n",
      "Mean Squared Error (MSE): 3675286604768.19\n",
      "Root Mean Squared Error (RMSE): 1917103.70\n",
      "R-squared (R²): 0.27\n"
     ]
    }
   ],
   "source": [
    "#Evaluating Model Performance\n",
    "from sklearn.metrics import mean_absolute_error, mean_squared_error, r2_score\n",
    "import numpy as np\n",
    "\n",
    "# Make predictions on the test set\n",
    "y_pred = model.predict(X_test)\n",
    "\n",
    "# Calculate the evaluation metrics\n",
    "mae = mean_absolute_error(y_test, y_pred)\n",
    "mse = mean_squared_error(y_test, y_pred)\n",
    "rmse = np.sqrt(mse) # RMSE is the square root of MSE\n",
    "r2 = r2_score(y_test, y_pred)\n",
    "\n",
    "print(\"Model Evaluation:\")\n",
    "print(f\"Mean Absolute Error (MAE): {mae:.2f}\")\n",
    "print(f\"Mean Squared Error (MSE): {mse:.2f}\")\n",
    "print(f\"Root Mean Squared Error (RMSE): {rmse:.2f}\")\n",
    "print(f\"R-squared (R²): {r2:.2f}\")"
   ]
  },
  {
   "cell_type": "code",
   "execution_count": 13,
   "id": "e598a762-43a3-4ed7-aa3d-f59656cc6e39",
   "metadata": {},
   "outputs": [
    {
     "data": {
      "image/png": "[encoded data removed]",
      "text/plain": [
       "<Figure size 1000x600 with 1 Axes>"
      ]
     },
     "metadata": {},
     "output_type": "display_data"
    },
    {
     "name": "stdout",
     "output_type": "stream",
     "text": [
      "\n",
      "Model Coefficients:\n",
      "Intercept: 2512254.26\n",
      "Coefficient for Area: 425.73\n",
      "\n",
      "Interpretation:\n",
      "For every one-unit increase in 'Area', the predicted 'Price' increases by 425.73.\n"
     ]
    }
   ],
   "source": [
    "#Plot the Regression Line and Interpret Coefficients\n",
    "import matplotlib.pyplot as plt\n",
    "\n",
    "# Plotting the regression line\n",
    "plt.figure(figsize=(10, 6))\n",
    "plt.scatter(X_test, y_test, color='blue', label='Actual Prices')\n",
    "plt.plot(X_test, y_pred, color='red', linewidth=2, label='Regression Line')\n",
    "plt.title('House Price Prediction based on Area')\n",
    "plt.xlabel('Area')\n",
    "plt.ylabel('Price')\n",
    "plt.legend()\n",
    "plt.grid(True)\n",
    "plt.show()\n",
    "\n",
    "# Interpret the coefficients\n",
    "print(\"\\nModel Coefficients:\")\n",
    "print(f\"Intercept: {model.intercept_:.2f}\")\n",
    "print(f\"Coefficient for Area: {model.coef_[0]:.2f}\")\n",
    "\n",
    "# Interpretation of the coefficient\n",
    "print(\"\\nInterpretation:\")\n",
    "print(f\"For every one-unit increase in 'Area', the predicted 'Price' increases by {model.coef_[0]:.2f}.\")"
   ]
  },
  {
   "cell_type": "code",
   "execution_count": null,
   "id": "a0b8830e-b737-45f2-86d1-6fb953edc70c",
   "metadata": {},
   "outputs": [],
   "source": [
    "#Multiple Linear Regression"
   ]
  },
  {
   "cell_type": "code",
   "execution_count": 14,
   "id": "aacfe782-da6e-47f6-9aee-0f72f39e53a3",
   "metadata": {},
   "outputs": [
    {
     "name": "stdout",
     "output_type": "stream",
     "text": [
      "Data split successfully with multiple features!\n",
      "Shape of X_train (multi-feature): (436, 3)\n",
      "Shape of X_test (multi-feature): (109, 3)\n"
     ]
    }
   ],
   "source": [
    "# Select multiple features (X) and the target (y)\n",
    "features = ['area', 'bedrooms', 'bathrooms']\n",
    "X_multi = df[features]\n",
    "y_multi = df['price']\n",
    "\n",
    "# Split the data into training and testing sets\n",
    "from sklearn.model_selection import train_test_split\n",
    "X_train_multi, X_test_multi, y_train_multi, y_test_multi = train_test_split(X_multi, y_multi, test_size=0.2, random_state=42)\n",
    "\n",
    "print(\"Data split successfully with multiple features!\")\n",
    "print(f\"Shape of X_train (multi-feature): {X_train_multi.shape}\")\n",
    "print(f\"Shape of X_test (multi-feature): {X_test_multi.shape}\")"
   ]
  },
  {
   "cell_type": "code",
   "execution_count": 16,
   "id": "04891875-717b-4582-9bf0-06dee85922fc",
   "metadata": {},
   "outputs": [
    {
     "name": "stdout",
     "output_type": "stream",
     "text": [
      "Multiple Linear Regression model trained successfully!\n"
     ]
    }
   ],
   "source": [
    "from sklearn.linear_model import LinearRegression\n",
    "\n",
    "# Creating a Linear Regression model instance\n",
    "model_multi = LinearRegression()\n",
    "\n",
    "# Fit (train) the model on the training data with multiple features\n",
    "model_multi.fit(X_train_multi, y_train_multi)\n",
    "\n",
    "print(\"Multiple Linear Regression model trained successfully!\")"
   ]
  },
  {
   "cell_type": "code",
   "execution_count": 17,
   "id": "c0b40e95-d01b-44e4-8c10-997f12208ce9",
   "metadata": {},
   "outputs": [
    {
     "name": "stdout",
     "output_type": "stream",
     "text": [
      "Multiple Linear Regression Model Evaluation:\n",
      "Mean Absolute Error (MAE): 1265275.67\n",
      "Mean Squared Error (MSE): 2750040479309.05\n",
      "R-squared (R²): 0.46\n"
     ]
    }
   ],
   "source": [
    "from sklearn.metrics import mean_absolute_error, mean_squared_error, r2_score\n",
    "import numpy as np\n",
    "\n",
    "# Making predictions on the test set\n",
    "y_pred_multi = model_multi.predict(X_test_multi)\n",
    "\n",
    "# Calculating the evaluation metrics\n",
    "mae_multi = mean_absolute_error(y_test_multi, y_pred_multi)\n",
    "mse_multi = mean_squared_error(y_test_multi, y_pred_multi)\n",
    "r2_multi = r2_score(y_test_multi, y_pred_multi)\n",
    "\n",
    "print(\"Multiple Linear Regression Model Evaluation:\")\n",
    "print(f\"Mean Absolute Error (MAE): {mae_multi:.2f}\")\n",
    "print(f\"Mean Squared Error (MSE): {mse_multi:.2f}\")\n",
    "print(f\"R-squared (R²): {r2_multi:.2f}\")"
   ]
  },
  {
   "cell_type": "code",
   "execution_count": 18,
   "id": "e108b7aa-4309-4b56-b618-f324e22d80cb",
   "metadata": {},
   "outputs": [
    {
     "name": "stdout",
     "output_type": "stream",
     "text": [
      "Multiple Linear Regression Coefficients:\n",
      "Intercept: 59485.38\n",
      "Coefficient for area: 345.47\n",
      "Coefficient for bedrooms: 360197.65\n",
      "Coefficient for bathrooms: 1422319.66\n",
      "\n",
      "Interpretation:\n",
      "For every one-unit increase in 'area', the predicted 'price' increases by 345.47, holding all other features constant.\n",
      "For every one-unit increase in 'bedrooms', the predicted 'price' increases by 360197.65, holding all other features constant.\n",
      "For every one-unit increase in 'bathrooms', the predicted 'price' increases by 1422319.66, holding all other features constant.\n"
     ]
    }
   ],
   "source": [
    "# Interpreting the coefficients\n",
    "print(\"Multiple Linear Regression Coefficients:\")\n",
    "print(f\"Intercept: {model_multi.intercept_:.2f}\")\n",
    "\n",
    "# Pairing the feature names with their coefficients\n",
    "feature_names = X_train_multi.columns\n",
    "coefficients = model_multi.coef_\n",
    "\n",
    "for feature, coef in zip(feature_names, coefficients):\n",
    "    print(f\"Coefficient for {feature}: {coef:.2f}\")\n",
    "\n",
    "# Interpretation of the coefficients\n",
    "print(\"\\nInterpretation:\")\n",
    "print(f\"For every one-unit increase in 'area', the predicted 'price' increases by {coefficients[0]:.2f}, holding all other features constant.\")\n",
    "print(f\"For every one-unit increase in 'bedrooms', the predicted 'price' increases by {coefficients[1]:.2f}, holding all other features constant.\")\n",
    "print(f\"For every one-unit increase in 'bathrooms', the predicted 'price' increases by {coefficients[2]:.2f}, holding all other features constant.\")"
   ]
  }
 ],
 "metadata": {
  "kernelspec": {
   "display_name": "Python 3 (ipykernel)",
   "language": "python",
   "name": "python3"
  },
  "language_info": {
   "codemirror_mode": {
    "name": "ipython",
    "version": 3
   },
   "file_extension": ".py",
   "mimetype": "text/x-python",
   "name": "python",
   "nbconvert_exporter": "python",
   "pygments_lexer": "ipython3",
   "version": "3.13.5"
  }
 },
 "nbformat": 4,
 "nbformat_minor": 5
}
